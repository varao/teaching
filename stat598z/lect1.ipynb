{
 "cells": [
  {
   "cell_type": "markdown",
   "metadata": {},
   "source": [
    "# Lecture 1: Introduction\n",
    "\n",
    "## Stat598z: Introduction to computing for statistics\n",
    "\n",
    "\n",
    "***\n",
    "\n",
    "\n",
    "## Vinayak Rao\n",
    "\n",
    "### Department of Statistics, Purdue University\n",
    "---"
   ]
  },
  {
   "cell_type": "markdown",
   "metadata": {
    "slideshow": {
     "slide_type": "slide"
    }
   },
   "source": [
    "# Logistics\n",
    "\n",
    "+ **Class** Tue/Thu 900-1015, Recitation Building 303\n",
    "+ **Class email** purduestat598z@gmail.com\n",
    "+ **Website** http://www.stat.purdue.edu/~varao/teach.html\n",
    "+ **Piazza** https://piazza.com/class/ij5v1sa8q1t5ot\n",
    "+ **Instructor** Vinayak Rao\n",
    "  - If you email me, include STAT598 in the subject\n",
    "  - E.g. ‘STAT598: My dog ate my homework’\n",
    "+ **Office** Math236\n",
    "+ **Office Hours** 1030 - 1100 Tuesdays or by appointment\n",
    "+ **TA** Mohit Dayal\n",
    "+ **Office Hours** 1200-1300 Thursdays"
   ]
  },
  {
   "cell_type": "markdown",
   "metadata": {
    "slideshow": {
     "slide_type": "slide"
    }
   },
   "source": [
    "![Alt text](emerg.png \"The Stormtroopocat\")"
   ]
  },
  {
   "cell_type": "markdown",
   "metadata": {
    "slideshow": {
     "slide_type": "slide"
    }
   },
   "source": [
    "We can also exectute simple R code if we want"
   ]
  },
  {
   "cell_type": "code",
   "execution_count": 31,
   "metadata": {
    "collapsed": false,
    "scrolled": false,
    "slideshow": {
     "slide_type": "slide"
    }
   },
   "outputs": [
    {
     "data": {},
     "metadata": {},
     "output_type": "display_data"
    },
    {
     "data": {
      "image/png": "[encoded data removed]",
      "text/plain": [
       "plot without title"
      ]
     },
     "metadata": {},
     "output_type": "display_data"
    }
   ],
   "source": [
    "library(ggplot2)\n",
    "options(repr.plot.width=4, repr.plot.height=3)\n",
    "ggplot(data.frame(x=rnorm(100))) + geom_histogram(aes(x=x),bins=10,\n",
    "                                                 fill='blue')"
   ]
  },
  {
   "cell_type": "markdown",
   "metadata": {
    "collapsed": true,
    "slideshow": {
     "slide_type": "subslide"
    }
   },
   "source": [
    "ggplot!"
   ]
  },
  {
   "cell_type": "code",
   "execution_count": 34,
   "metadata": {
    "collapsed": false
   },
   "outputs": [
    {
     "data": {
      "text/html": [
       "7"
      ],
      "text/latex": [
       "7"
      ],
      "text/markdown": [
       "7"
      ],
      "text/plain": [
       "[1] 7"
      ]
     },
     "metadata": {},
     "output_type": "display_data"
    }
   ],
   "source": [
    "3+4"
   ]
  }
 ],
 "metadata": {
  "anaconda-cloud": {},
  "celltoolbar": "Slideshow",
  "kernelspec": {
   "display_name": "R",
   "language": "R",
   "name": "ir"
  },
  "language_info": {
   "codemirror_mode": "r",
   "file_extension": ".r",
   "mimetype": "text/x-r-source",
   "name": "R",
   "pygments_lexer": "r",
   "version": "3.3.2"
  }
 },
 "nbformat": 4,
 "nbformat_minor": 2
}
